{
 "cells": [
  {
   "cell_type": "markdown",
   "metadata": {},
   "source": [
    "# imports"
   ]
  },
  {
   "cell_type": "code",
   "execution_count": 1,
   "metadata": {},
   "outputs": [],
   "source": [
    "import requests\n",
    "import json\n",
    "import sys\n",
    "import io\n",
    "import logging"
   ]
  },
  {
   "cell_type": "markdown",
   "metadata": {},
   "source": [
    "# settings"
   ]
  },
  {
   "cell_type": "code",
   "execution_count": 2,
   "metadata": {},
   "outputs": [],
   "source": [
    "st_url = \"http://smartaqnet-dev.teco.edu:8080/FROST-Server/v1.0\""
   ]
  },
  {
   "cell_type": "markdown",
   "metadata": {},
   "source": [
    "# logging"
   ]
  },
  {
   "cell_type": "code",
   "execution_count": 3,
   "metadata": {},
   "outputs": [],
   "source": [
    "log = logging.getLogger(__name__)\n",
    "log.setLevel(logging.DEBUG)\n",
    "formatter = logging.Formatter(\"%(asctime)s - %(levelname)s(%(name)s): %(message)s\")\n",
    "\n",
    "fh = logging.FileHandler('./log')\n",
    "fh.setLevel(logging.DEBUG)\n",
    "fh.setFormatter(formatter)\n",
    "log.addHandler(fh)\n",
    "\n",
    "sh = logging.StreamHandler(sys.stderr)\n",
    "sh.setLevel(logging.ERROR)\n",
    "sh.setFormatter(formatter)\n",
    "log.addHandler(sh)"
   ]
  },
  {
   "cell_type": "markdown",
   "metadata": {},
   "source": [
    "# geo conversion function"
   ]
  },
  {
   "cell_type": "code",
   "execution_count": 4,
   "metadata": {},
   "outputs": [
    {
     "data": {
      "text/plain": [
       "48.35794444444445"
      ]
     },
     "execution_count": 4,
     "metadata": {},
     "output_type": "execute_result"
    }
   ],
   "source": [
    "def geo_conversion(inputstring):\n",
    "    direction = {\n",
    "        \"N\": 1,\n",
    "        \"S\": -1,\n",
    "        \"E\": 1,\n",
    "        \"W\": -1\n",
    "    }\n",
    "    \n",
    "    new = inputstring.replace(\" \", \"\")\n",
    "    new = new.replace(u\"°\", \" \")\n",
    "    new = new.replace(\"'\", \" \")\n",
    "    new = new.replace(\"\\\"\", \" \")\n",
    "    new = new.split()\n",
    "    new_dir = new.pop()\n",
    "    \n",
    "    return (float(new[0])+float(new[1])/60.0+float(new[2])/3600.0) * direction[new_dir]\n",
    "\n",
    "# test\n",
    "geo_conversion(\"\"\"48°21'28.6\"N\"\"\")"
   ]
  },
  {
   "cell_type": "markdown",
   "metadata": {},
   "source": [
    "# post entity function"
   ]
  },
  {
   "cell_type": "code",
   "execution_count": 5,
   "metadata": {},
   "outputs": [],
   "source": [
    "def PostEntity(st_url, where, entity):\n",
    "        \"\"\"TODO: add docstring\"\"\"\n",
    "        try:\n",
    "            entityid = entity[\"@iot.id\"]\n",
    "        except KeyError:\n",
    "            entityid = \"new ID\"\n",
    "            \n",
    "        p = requests.post(st_url + where, json.dumps(entity))\n",
    "        if (p.status_code  == 201):\n",
    "            log.debug(\"entity created: \" + st_url + where + \"('\" + entityid + \")'\")\n",
    "            return True\n",
    "        else:\n",
    "            body = b\"\";\n",
    "            for chunk in p.iter_content(chunk_size=128):\n",
    "                body += chunk\n",
    "                \n",
    "            body = body.decode(\"utf8\")\n",
    "            body = body.replace(\"\\n\", \" \").replace(\"\\r\", \"\")\n",
    "            \n",
    "            if (p.status_code  == 500 and entityid != \"new ID\"):\n",
    "                log.warning(\"entity exists already: \" + st_url + where + \"('\" + entityid + \"')\" + \" - body: \" + body)\n",
    "                return False\n",
    "            \n",
    "            log.error(\"cannot create entity: \" + st_url + where + \"('\" + entityid + \"')\" + \\\n",
    "                      \" - exit code: \" + str(p.status_code) + \" - body: \" + body)\n",
    "            raise TypeError(\"invalid entity\")"
   ]
  },
  {
   "cell_type": "markdown",
   "metadata": {},
   "source": [
    "# define data"
   ]
  },
  {
   "cell_type": "code",
   "execution_count": 6,
   "metadata": {},
   "outputs": [],
   "source": [
    "exceldata = [\n",
    "    {\n",
    "        \"name\": \"Container FH\",\n",
    "        \"acronym\": \"FH\",\n",
    "        \"lat\": \"\"\"48°21'28.6\"N\"\"\",\n",
    "        \"lon\": \"\"\"10°54'25.1\"E\"\"\",\n",
    "        \"type\": \"Urban Background\",\n",
    "        \"url\": \"helmholtz-muenchen.de\",\n",
    "        \"device\": \"container\",\n",
    "        \"srn\": \"FH\"\n",
    "    },\n",
    "    \n",
    "    {\n",
    "        \"name\": \"LÜB Königsplatz\",\n",
    "        \"acronym\": \"KP\",\n",
    "        \"lat\": \"\"\"48°21'52.5\"N\"\"\",\n",
    "        \"lon\": \"\"\"10°53'42.1\"E\"\"\",\n",
    "        \"type\": \"Traffic Site (City Zone)\",\n",
    "        \"url\": \"lfu.bayern.de\",\n",
    "        \"device\": \"container\",\n",
    "        \"srn\": \"701\"\n",
    "    },\n",
    "    \n",
    "    \n",
    "    {\n",
    "        \"name\": \"LÜB Bourges Platz\",\n",
    "        \"acronym\": \"BP\",\n",
    "        \"lat\": \"\"\"48°22'36.4\"N\"\"\",\n",
    "        \"lon\": \"\"\"10°53'18.2\"E\"\"\",\n",
    "        \"type\": \"Urban Background\",\n",
    "        \"url\": \"lfu.bayern.de\",\n",
    "        \"device\": \"container\",\n",
    "        \"srn\": \"706\"\n",
    "    },\n",
    "    \n",
    "    {\n",
    "        \"name\": \"LÜB Karlsstraße\",\n",
    "        \"acronym\": \"KS\",\n",
    "        \"lat\": \"\"\"48°22'13.0\"N\"\"\",\n",
    "        \"lon\": \"\"\"10°53'46.7\"E\"\"\",\n",
    "        \"type\": \"Traffic Site (Hot Spot)\",\n",
    "        \"url\": \"lfu.bayern.de\",\n",
    "        \"device\": \"container\",\n",
    "        \"srn\": \"1401\"\n",
    "    },\n",
    "    \n",
    "    {\n",
    "        \"name\": \"LÜB LfU\",\n",
    "        \"acronym\": \"LfU\",\n",
    "        \"lat\": \"\"\"48°19'33.7\"N\"\"\",\n",
    "        \"lon\": \"\"\"10°54'11.1\"E\"\"\",\n",
    "        \"type\": \"Regional Background\",\n",
    "        \"url\": \"lfu.bayern.de\",\n",
    "        \"device\": \"container\",\n",
    "        \"srn\": \"1501\"\n",
    "    },\n",
    "    \n",
    "    {\n",
    "        \"name\": \"Schertlinstraße\",\n",
    "        \"acronym\": \"SST\",\n",
    "        \"lat\": \"\"\"48°21'07.2\"N\"\"\",\n",
    "        \"lon\": \"\"\"10°54'09.9\"E\"\"\",\n",
    "        \"type\": \"Traffic Site (Crossing)\",\n",
    "        \"url\": \"helmholtz-muenchen.de\",\n",
    "        \"device\": \"container\",\n",
    "        \"srn\": \"SST\"\n",
    "    },\n",
    "    \n",
    "    {\n",
    "        \"name\": \"Klostergarten\",\n",
    "        \"acronym\": \"KLG\",\n",
    "        \"lat\": \"\"\"48°22'27.3\"N\"\"\",\n",
    "        \"lon\": \"\"\"10°53'59.3\"E\"\"\",\n",
    "        \"type\": \"Urban Background\",\n",
    "        \"url\": \"helmholtz-muenchen.de\",\n",
    "        \"device\": \"container\",\n",
    "        \"srn\": \"KLG\"\n",
    "    },\n",
    "    \n",
    "    {\n",
    "        \"name\": \"Lindenau\",\n",
    "        \"acronym\": \"LDH\",\n",
    "        \"lat\": \"\"\"48°19'20.6\"N\"\"\",\n",
    "        \"lon\": \"\"\"10°57'49.6\"E\"\"\",\n",
    "        \"type\": \"Rural Background\",\n",
    "        \"url\": \"helmholtz-muenchen.de\",\n",
    "        \"device\": \"container\",\n",
    "        \"srn\": \"LDH\"\n",
    "    }\n",
    "]"
   ]
  },
  {
   "cell_type": "markdown",
   "metadata": {},
   "source": [
    "# create things"
   ]
  },
  {
   "cell_type": "code",
   "execution_count": 7,
   "metadata": {},
   "outputs": [],
   "source": [
    "things = list()\n",
    "\n",
    "for elem in exceldata:\n",
    "    thing = dict()\n",
    "    thing[\"name\"] = \"Messcontainer\"\n",
    "    thing[\"description\"] = elem[\"name\"] + \" - \" + elem[\"acronym\"]\n",
    "    thing[\"properties\"] = {\n",
    "        \"SiteType\": elem[\"type\"]\n",
    "    }\n",
    "    thing[\"@iot.id\"] = \"saqn:t:\" + elem[\"url\"] + \":\" + elem[\"device\"] + \":2018:\" + elem[\"srn\"]\n",
    "    elem[\"thingid\"] = thing[\"@iot.id\"]\n",
    "    \n",
    "    things.append(thing)"
   ]
  },
  {
   "cell_type": "markdown",
   "metadata": {},
   "source": [
    "# create locations"
   ]
  },
  {
   "cell_type": "code",
   "execution_count": 8,
   "metadata": {},
   "outputs": [],
   "source": [
    "locations = list()\n",
    "for elem in exceldata:\n",
    "    location = dict()\n",
    "    location[\"name\"] = \"Messcontainer\"\n",
    "    location[\"description\"] = \"Koordinaten des Messcontainers\"\n",
    "    location[\"encodingType\"] = \"application/vnd.geo+json\"\n",
    "    location[\"location\"] = {\n",
    "        \"type\": \"Point\",\n",
    "        \"coordinates\": [\n",
    "            geo_conversion(elem[\"lon\"]),\n",
    "            geo_conversion(elem[\"lat\"])\n",
    "        ]\n",
    "    }\n",
    "    \n",
    "    location[\"@iot.id\"] = \"saqn:l:\" + elem[\"url\"]\n",
    "    \n",
    "    if \"Lindenau\" in elem[\"name\"]:\n",
    "        location[\"@iot.id\"] += \":Friedberg:\" + elem[\"name\"]\n",
    "    else:\n",
    "        location[\"@iot.id\"] += \":Augsburg:\" + elem[\"name\"]\n",
    "        \n",
    "    elem[\"locationid\"] = location[\"@iot.id\"]\n",
    "    \n",
    "    locations.append(location)"
   ]
  },
  {
   "cell_type": "markdown",
   "metadata": {},
   "source": [
    "# add locations to things"
   ]
  },
  {
   "cell_type": "code",
   "execution_count": 9,
   "metadata": {},
   "outputs": [],
   "source": [
    "comb = zip(things, locations)\n",
    "things = list()\n",
    "for elem in comb:\n",
    "    elem[0][\"Locations\"] = [elem[1]]\n",
    "    things.append(elem[0])"
   ]
  },
  {
   "cell_type": "markdown",
   "metadata": {},
   "source": [
    "# send everything"
   ]
  },
  {
   "cell_type": "code",
   "execution_count": 10,
   "metadata": {},
   "outputs": [],
   "source": [
    "for elem in things:\n",
    "    PostEntity(st_url, \"/Things\", elem)"
   ]
  },
  {
   "cell_type": "markdown",
   "metadata": {},
   "source": [
    "# write data"
   ]
  },
  {
   "cell_type": "code",
   "execution_count": 11,
   "metadata": {},
   "outputs": [],
   "source": [
    "with io.open(\"exceldata.dat\", \"w\", encoding=\"utf8\") as file:\n",
    "    json.dump(exceldata, file, ensure_ascii=False)"
   ]
  },
  {
   "cell_type": "code",
   "execution_count": null,
   "metadata": {},
   "outputs": [],
   "source": []
  }
 ],
 "metadata": {
  "kernelspec": {
   "display_name": "Python 3",
   "language": "python",
   "name": "python3"
  },
  "language_info": {
   "codemirror_mode": {
    "name": "ipython",
    "version": 3
   },
   "file_extension": ".py",
   "mimetype": "text/x-python",
   "name": "python",
   "nbconvert_exporter": "python",
   "pygments_lexer": "ipython3",
   "version": "3.6.6"
  }
 },
 "nbformat": 4,
 "nbformat_minor": 2
}
