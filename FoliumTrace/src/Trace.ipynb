{
 "cells": [
  {
   "cell_type": "markdown",
   "metadata": {},
   "source": [
    "# imports"
   ]
  },
  {
   "cell_type": "code",
   "execution_count": null,
   "metadata": {},
   "outputs": [],
   "source": [
    "import os\n",
    "import json\n",
    "import dateutil\n",
    "import datetime\n",
    "import SensorThings as st\n",
    "import numpy as np\n",
    "import geopandas as gpd\n",
    "import pandas as pd\n",
    "from shapely.geometry import LineString\n",
    "from shapely.geometry import Point\n",
    "import folium\n",
    "import branca.colormap as cm"
   ]
  },
  {
   "cell_type": "markdown",
   "metadata": {},
   "source": [
    "# settings"
   ]
  },
  {
   "cell_type": "code",
   "execution_count": null,
   "metadata": {},
   "outputs": [],
   "source": [
    "reloaddata = True\n",
    "\n",
    "st_url = \"http://smartaqnet.teco.edu:8080/FROST-Server\"\n",
    "datastream_id = \"testdatastream:80:7D:3A:DA:CF:3E\"\n",
    "\n",
    "starttime = \"2018-11-13T00:00:00.000Z\"\n",
    "endtime = \"2018-11-13T23:59:59.999Z\""
   ]
  },
  {
   "cell_type": "markdown",
   "metadata": {},
   "source": [
    "# load data"
   ]
  },
  {
   "cell_type": "code",
   "execution_count": null,
   "metadata": {},
   "outputs": [],
   "source": [
    "qdata = [\n",
    "    \"$expand=\" +\n",
    "        \"Datastream($select=id),\" +\n",
    "        \"FeatureOfInterest($select=id,feature)\",\n",
    "\n",
    "    \"$filter=\" +\n",
    "        \"phenomenonTime ge \" + starttime + \" and \"\n",
    "        \"phenomenonTime le \" + endtime,\n",
    "\n",
    "    \"$select=id,result,phenomenonTime\"\n",
    "]\n",
    "\n",
    "def load_data(filename, where):\n",
    "    if (not os.path.isfile(filename)) or reloaddata:\n",
    "        entities = st.GetEntities(st_url, where, qdata)\n",
    "        with open(filename, 'w') as outfile:\n",
    "            json.dump(entities, outfile)\n",
    "    else:\n",
    "        with open(filename, 'r') as infile:\n",
    "            entities = json.load(infile)\n",
    "            \n",
    "    data = [\n",
    "        [\n",
    "            dateutil.parser.parse(elem['phenomenonTime']).timestamp(),\n",
    "            *(elem['FeatureOfInterest']['feature']['coordinates']),\n",
    "            elem[\"result\"],\n",
    "            elem[\"@iot.id\"],\n",
    "            elem[\"FeatureOfInterest\"][\"@iot.id\"],\n",
    "            elem[\"Datastream\"][\"@iot.id\"],\n",
    "        ]\n",
    "        for elem in entities\n",
    "    ]\n",
    "    data.sort(key=lambda x: x[0])\n",
    "    data_cols = list(zip(*data))\n",
    "    gdf = gpd.GeoDataFrame(\n",
    "        {\n",
    "            \"timestamp\": data_cols[0],\n",
    "            \"longitude\": data_cols[1],\n",
    "            \"latitude\": data_cols[2],\n",
    "            \"elevation\": data_cols[3],\n",
    "            \"value\": data_cols[4],\n",
    "            \"@iot.id\": data_cols[5],\n",
    "            \"FeatureOfInterest.@iot.id\": data_cols[6],\n",
    "            \"Datastream.@iot.id\": data_cols[7],\n",
    "        },\n",
    "        geometry = [Point(xy) for xy in zip(*data_cols[1:3])],\n",
    "        crs = {'init': 'epsg:4326'}\n",
    "    )\n",
    "    \n",
    "    \n",
    "    return gdf\n",
    "\n",
    "\n",
    "# PM10 data\n",
    "filename = \"entities_pm10.json\"\n",
    "where = \"/v1.0/Datastreams('\" + datastream_id + \":PM10')/Observations\"\n",
    "PM10 = load_data(filename, where)\n",
    "\n",
    "# PM2.5 data\n",
    "filename = \"entities_pm25.json\"\n",
    "where = \"/v1.0/Datastreams('\" + datastream_id + \":PM25')/Observations\"\n",
    "PM25 = load_data(filename, where)"
   ]
  },
  {
   "cell_type": "markdown",
   "metadata": {},
   "source": [
    "# calculate differences"
   ]
  },
  {
   "cell_type": "code",
   "execution_count": null,
   "metadata": {},
   "outputs": [],
   "source": [
    "def calc_LineStrings(gdf):\n",
    "    for i in range(len(gdf) - 1):\n",
    "        geom0 = gdf.loc[i][\"geometry\"]\n",
    "        geom1 = gdf.loc[i + 1][\"geometry\"]\n",
    "    \n",
    "        start, end = [(geom0.x, geom0.y), (geom1.x, geom1.y)]\n",
    "        line = LineString([start, end])\n",
    "        yield line\n",
    "        \n",
    "        \n",
    "def calc_timedelta(gdf):\n",
    "    temp = gdf[1:].copy()\n",
    "    temp.index = range(len(temp))\n",
    "    timedelta = temp[\"timestamp\"] - gdf[\"timestamp\"]\n",
    "    \n",
    "    return timedelta\n",
    "    \n",
    "    \n",
    "def calc_distance(gdf):\n",
    "    temp = gpd.GeoDataFrame(\n",
    "        gdf.copy()[:-1],\n",
    "        geometry = list(calc_LineStrings(gdf)),\n",
    "        crs = {'init': 'epsg:4326'}\n",
    "    )\n",
    "    temp.index = range(len(temp))\n",
    "    distance = temp.length\n",
    "    \n",
    "    return distance\n",
    "    \n",
    "        \n",
    "def calc_differences(gdf):\n",
    "    gdf_out = gdf.copy()\n",
    "    \n",
    "    # calculate initial stuff\n",
    "    gdf_out.loc[:, \"timedelta\"] = calc_timedelta(gdf)\n",
    "    gdf_out.loc[:, \"distance\"] = calc_distance(gdf)\n",
    "    \n",
    "    # drop some stuff\n",
    "    gdf_out = gdf_out[gdf_out[\"distance\"] != 0.0]\n",
    "    gdf_out = gdf_out[gdf_out[\"distance\"] < 0.5*10e-4]\n",
    "    gdf_out = gdf_out[gdf_out[\"timedelta\"] > 0.1]\n",
    "    gdf_out.index = range(len(gdf_out))\n",
    "    \n",
    "    # calculate final stuff\n",
    "    gdf_out.loc[:, \"timedelta\"] = calc_timedelta(gdf_out)\n",
    "    gdf_out = gpd.GeoDataFrame(\n",
    "        gdf_out[:-1],\n",
    "        geometry = list(calc_LineStrings(gdf_out)),\n",
    "        crs = {'init': 'epsg:4326'}\n",
    "    )\n",
    "    gdf_out.loc[:, \"distance\"] = gdf_out.length\n",
    "    gdf_out.loc[:, \"velocity\"] = gdf_out[\"distance\"].divide(gdf_out[\"timedelta\"])\n",
    "    \n",
    "    return gdf_out\n",
    "\n",
    "\n",
    "PM10_diff = calc_differences(PM10)\n",
    "PM25_diff = calc_differences(PM25)"
   ]
  },
  {
   "cell_type": "markdown",
   "metadata": {},
   "source": [
    "# map"
   ]
  },
  {
   "cell_type": "code",
   "execution_count": null,
   "metadata": {},
   "outputs": [],
   "source": [
    "fig = folium.Figure(height = 400)\n",
    "\n",
    "map_center = (PM10[\"latitude\"].mean(), PM10[\"longitude\"].mean())\n",
    "m = folium.Map(location = map_center, zoom_start = 14, tiles = \"Cartodb dark_matter\")\n",
    "\n",
    "plotgdf = PM10_diff\n",
    "plotcol = \"value\"\n",
    "\n",
    "linear = cm.linear.YlOrRd_03.scale(plotgdf[plotcol].min(), plotgdf[plotcol].max()/10.0)\n",
    "layer = folium.GeoJson(plotgdf,\n",
    "                       style_function = lambda feature: {\n",
    "                           'color': linear(feature[\"properties\"][plotcol]),\n",
    "                           'weight': 3\n",
    "                       })\n",
    "\n",
    "layer.add_child\n",
    "    \n",
    "m.add_child(linear)\n",
    "m.add_child(layer)\n",
    "m.add_to(fig)"
   ]
  },
  {
   "cell_type": "code",
   "execution_count": null,
   "metadata": {},
   "outputs": [],
   "source": []
  }
 ],
 "metadata": {
  "kernelspec": {
   "display_name": "Python 3",
   "language": "python",
   "name": "python3"
  },
  "language_info": {
   "codemirror_mode": {
    "name": "ipython",
    "version": 3
   },
   "file_extension": ".py",
   "mimetype": "text/x-python",
   "name": "python",
   "nbconvert_exporter": "python",
   "pygments_lexer": "ipython3",
   "version": "3.6.6"
  }
 },
 "nbformat": 4,
 "nbformat_minor": 2
}
