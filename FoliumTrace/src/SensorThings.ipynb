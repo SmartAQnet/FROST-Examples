{
 "cells": [
  {
   "cell_type": "markdown",
   "metadata": {},
   "source": [
    "# imports"
   ]
  },
  {
   "cell_type": "code",
   "execution_count": 1,
   "metadata": {},
   "outputs": [],
   "source": [
    "import requests\n",
    "import json"
   ]
  },
  {
   "cell_type": "markdown",
   "metadata": {},
   "source": [
    "# export notebook"
   ]
  },
  {
   "cell_type": "code",
   "execution_count": 2,
   "metadata": {},
   "outputs": [
    {
     "name": "stderr",
     "output_type": "stream",
     "text": [
      "[NbConvertApp] Converting notebook SensorThings.ipynb to script\n",
      "[NbConvertApp] Writing 2187 bytes to SensorThings.py\n"
     ]
    }
   ],
   "source": [
    "if __name__ == \"__main__\":\n",
    "    try:\n",
    "        get_ipython()\n",
    "        isnotebook = True\n",
    "    except Exception:\n",
    "        isnotebook = False\n",
    "        \n",
    "    if isnotebook:\n",
    "        !jupyter nbconvert --to script SensorThings.ipynb"
   ]
  },
  {
   "cell_type": "markdown",
   "metadata": {},
   "source": [
    "# GETRequest"
   ]
  },
  {
   "cell_type": "code",
   "execution_count": 3,
   "metadata": {},
   "outputs": [],
   "source": [
    "def GETRequest(url, qdata=None):\n",
    "    \"\"\"TODO: add docstring\"\"\"\n",
    "    \n",
    "    if qdata == None:\n",
    "        qdata = []\n",
    "    \n",
    "    sqdata = \"?\"\n",
    "    for elem in qdata:\n",
    "        sqdata += elem + \"&\"\n",
    "    sqdata = sqdata[:-1]\n",
    "\n",
    "    p = requests.get(url + sqdata)\n",
    "    body = b\"\"\n",
    "    for chunk in p.iter_content(chunk_size=128):\n",
    "        body += chunk\n",
    "    body = body.decode(\"utf8\")\n",
    "    body = body.replace(\"\\n\", \" \").replace(\"\\r\", \"\")\n",
    "    if (p.status_code  == 200):\n",
    "        return body\n",
    "    else:\n",
    "        raise TypeError(\n",
    "            \"invalid request - status code: \" +\n",
    "            str(p.status_code) +\n",
    "            \" - response: \" +\n",
    "            body\n",
    "        )"
   ]
  },
  {
   "cell_type": "markdown",
   "metadata": {},
   "source": [
    "# GetEntities"
   ]
  },
  {
   "cell_type": "code",
   "execution_count": 4,
   "metadata": {},
   "outputs": [],
   "source": [
    "def GetEntities(st_url, where, qdata=None):\n",
    "    entities = list()\n",
    "\n",
    "    retval = json.loads(GETRequest(st_url + where, qdata))\n",
    "    entities.extend(retval[\"value\"])\n",
    "\n",
    "    allkeys = [*retval]\n",
    "    while \"@iot.nextLink\" in allkeys:\n",
    "        nexturl = retval[\"@iot.nextLink\"]\n",
    "        retval = json.loads(GETRequest(nexturl))\n",
    "        entities.extend(retval[\"value\"])\n",
    "        allkeys = [*retval]\n",
    "\n",
    "    return entities"
   ]
  },
  {
   "cell_type": "markdown",
   "metadata": {},
   "source": [
    "# PATCHRequest"
   ]
  },
  {
   "cell_type": "code",
   "execution_count": 5,
   "metadata": {},
   "outputs": [],
   "source": [
    "def PATCHRequest(url, data):\n",
    "    \"\"\"TODO: add docstring\"\"\"\n",
    "\n",
    "    p = requests.patch(url, data)\n",
    "    body = b\"\"\n",
    "    for chunk in p.iter_content(chunk_size=128):\n",
    "        body += chunk\n",
    "    body = body.decode(\"utf8\")\n",
    "    body = body.replace(\"\\n\", \" \").replace(\"\\r\", \"\")\n",
    "    if (p.status_code  == 200):\n",
    "        return body\n",
    "    else:\n",
    "        raise TypeError(\"invalid request: status code: \" + str(p.status_code))"
   ]
  },
  {
   "cell_type": "markdown",
   "metadata": {},
   "source": [
    "# Update FeatureOfInterest Coordinates"
   ]
  },
  {
   "cell_type": "code",
   "execution_count": 6,
   "metadata": {},
   "outputs": [],
   "source": [
    "def UpdateFoICoordinates(url, coords):\n",
    "    newfeature = {\n",
    "        \"feature\": {\n",
    "            \"type\": \"Point\",\n",
    "            \"coordinates\": coords\n",
    "        }\n",
    "    }\n",
    "    \n",
    "    PATCHRequest(url, json.dumps(newfeature))"
   ]
  },
  {
   "cell_type": "code",
   "execution_count": null,
   "metadata": {},
   "outputs": [],
   "source": []
  }
 ],
 "metadata": {
  "kernelspec": {
   "display_name": "Python 3",
   "language": "python",
   "name": "python3"
  },
  "language_info": {
   "codemirror_mode": {
    "name": "ipython",
    "version": 3
   },
   "file_extension": ".py",
   "mimetype": "text/x-python",
   "name": "python",
   "nbconvert_exporter": "python",
   "pygments_lexer": "ipython3",
   "version": "3.6.6"
  }
 },
 "nbformat": 4,
 "nbformat_minor": 2
}
