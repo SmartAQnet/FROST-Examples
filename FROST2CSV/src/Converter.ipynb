{
 "cells": [
  {
   "cell_type": "markdown",
   "metadata": {},
   "source": [
    "# imports"
   ]
  },
  {
   "cell_type": "code",
   "execution_count": 1,
   "metadata": {},
   "outputs": [],
   "source": [
    "import os\n",
    "import json\n",
    "import dateutil\n",
    "import datetime\n",
    "import csv\n",
    "import SensorThings as st"
   ]
  },
  {
   "cell_type": "markdown",
   "metadata": {},
   "source": [
    "# export notebook"
   ]
  },
  {
   "cell_type": "code",
   "execution_count": 2,
   "metadata": {},
   "outputs": [
    {
     "name": "stderr",
     "output_type": "stream",
     "text": [
      "[NbConvertApp] Converting notebook Converter.ipynb to script\n",
      "[NbConvertApp] Writing 2913 bytes to Converter.py\n"
     ]
    }
   ],
   "source": [
    "if __name__ == \"__main__\":\n",
    "    try:\n",
    "        get_ipython()\n",
    "        isnotebook = True\n",
    "    except Exception:\n",
    "        isnotebook = False\n",
    "    \n",
    "    if isnotebook:\n",
    "        !jupyter nbconvert --to script Converter.ipynb"
   ]
  },
  {
   "cell_type": "markdown",
   "metadata": {},
   "source": [
    "# settings"
   ]
  },
  {
   "cell_type": "code",
   "execution_count": 3,
   "metadata": {},
   "outputs": [],
   "source": [
    "reloaddata = True\n",
    "\n",
    "ThingID = \"testthing\"\n",
    "starttime = \"2018-11-15T00:00:00.000Z\"\n",
    "endtime = \"2018-11-16T23:59:59.999Z\"\n",
    "\n",
    "st_url = \"http://smartaqnet.teco.edu:8080/FROST-Server\""
   ]
  },
  {
   "cell_type": "markdown",
   "metadata": {},
   "source": [
    "# get all DatastreamIDs"
   ]
  },
  {
   "cell_type": "code",
   "execution_count": 4,
   "metadata": {},
   "outputs": [],
   "source": [
    "where = \"/v1.0/Things('\" + ThingID + \"')/Datastreams\"\n",
    "qdata = [\"$select=id\"]\n",
    "\n",
    "DatastreamIDs = st.GetEntities(st_url, where, qdata)\n",
    "DatastreamIDs = [\n",
    "    elem[\"@iot.id\"] for elem in DatastreamIDs\n",
    "]"
   ]
  },
  {
   "cell_type": "markdown",
   "metadata": {},
   "source": [
    "# get all Observations"
   ]
  },
  {
   "cell_type": "code",
   "execution_count": 5,
   "metadata": {},
   "outputs": [],
   "source": [
    "qdata = [\n",
    "    \"$expand=\" +\n",
    "        \"Datastream($select=id),\" + \n",
    "        \"FeatureOfInterest($select=id,feature)\",\n",
    "    \n",
    "    \"$filter=\" +\n",
    "        \"phenomenonTime ge \" + starttime + \" and \"\n",
    "        \"phenomenonTime le \" + endtime,\n",
    "    \n",
    "    \"$select=id,result,phenomenonTime\"\n",
    "]\n",
    "\n",
    "data = list()\n",
    "csvheader = [\n",
    "    \"DatastreamID\",\n",
    "    \"ObservationID\",\n",
    "    \"FeatureOfInterestID\",\n",
    "    \"date\",\n",
    "    \"value\",\n",
    "    \"timestamp\",\n",
    "    \"longitude\",\n",
    "    \"latitude\",\n",
    "    \"elevation\"\n",
    "]\n",
    "\n",
    "basepath = \"./\" + ThingID.replace(\":\", \"-\")\n",
    "if not os.path.exists(basepath):\n",
    "    os.makedirs(basepath)\n",
    "\n",
    "for did in DatastreamIDs:\n",
    "    filename = basepath + \"/Observations_\" + did.replace(\":\", \"-\") + \".json\"\n",
    "    if (not os.path.isfile(filename)) or reloaddata:\n",
    "        where2 = where + \"('\" + did + \"')/Observations\"\n",
    "        Observations = st.GetEntities(st_url, where2, qdata)\n",
    "        with open(filename, \"w\") as file:\n",
    "            json.dump(Observations, file)\n",
    "    else:\n",
    "        with open(filename, \"r\") as file:\n",
    "            Observations = json.load(file)\n",
    "            \n",
    "    tempdata = [\n",
    "        [\n",
    "            obs[\"Datastream\"][\"@iot.id\"],\n",
    "            obs[\"@iot.id\"],\n",
    "            obs[\"FeatureOfInterest\"][\"@iot.id\"],\n",
    "            obs[\"phenomenonTime\"],\n",
    "            obs[\"result\"],\n",
    "            dateutil.parser.parse(obs[\"phenomenonTime\"]).timestamp(),\n",
    "            *(obs[\"FeatureOfInterest\"][\"feature\"][\"coordinates\"])\n",
    "        ]\n",
    "        for obs in Observations\n",
    "    ]\n",
    "    tempdata.sort(key=lambda x: x[5])\n",
    "    \n",
    "    filename = basepath + \"/Observations_\" + did.replace(\":\", \"-\") + \".csv\"\n",
    "    with open(filename, \"w\", newline=\"\") as csvfile:\n",
    "        csvwriter = csv.writer(csvfile, delimiter=\",\")\n",
    "        csvwriter.writerow(csvheader)\n",
    "        for elem in tempdata:\n",
    "            csvwriter.writerow(elem)\n",
    "    \n",
    "    data.extend(tempdata)\n",
    "    \n",
    "with open(basepath + \"/alldata.csv\", \"w\", newline=\"\") as csvfile:\n",
    "    csvwriter = csv.writer(csvfile, delimiter=\",\")\n",
    "    csvwriter.writerow(csvheader)\n",
    "    for elem in data:\n",
    "        csvwriter.writerow(elem)"
   ]
  },
  {
   "cell_type": "code",
   "execution_count": null,
   "metadata": {},
   "outputs": [],
   "source": []
  }
 ],
 "metadata": {
  "kernelspec": {
   "display_name": "Python 3",
   "language": "python",
   "name": "python3"
  },
  "language_info": {
   "codemirror_mode": {
    "name": "ipython",
    "version": 3
   },
   "file_extension": ".py",
   "mimetype": "text/x-python",
   "name": "python",
   "nbconvert_exporter": "python",
   "pygments_lexer": "ipython3",
   "version": "3.6.6"
  }
 },
 "nbformat": 4,
 "nbformat_minor": 2
}
