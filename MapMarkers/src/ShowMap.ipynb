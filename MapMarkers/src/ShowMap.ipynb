{
 "cells": [
  {
   "cell_type": "markdown",
   "metadata": {},
   "source": [
    "# imports"
   ]
  },
  {
   "cell_type": "code",
   "execution_count": 1,
   "metadata": {},
   "outputs": [],
   "source": [
    "import requests\n",
    "import json\n",
    "import sys\n",
    "import io\n",
    "import logging\n",
    "import ipyleaflet as leaflet\n",
    "import ipywidgets as widgets"
   ]
  },
  {
   "cell_type": "markdown",
   "metadata": {},
   "source": [
    "# settings"
   ]
  },
  {
   "cell_type": "code",
   "execution_count": 2,
   "metadata": {},
   "outputs": [],
   "source": [
    "st_url = \"http://smartaqnet-dev.teco.edu:8080/FROST-Server/v1.0\"\n",
    "where = \"/Things\"\n",
    "\n",
    "querypolygon = (\n",
    "    {\"lat\": 48.530143, \"lon\": 10.686774},\n",
    "    {\"lat\": 48.530143, \"lon\": 11.162049},\n",
    "    {\"lat\": 48.231226, \"lon\": 11.162049},\n",
    "    {\"lat\": 48.231226, \"lon\": 10.686774},\n",
    "    {\"lat\": 48.530143, \"lon\": 10.686774},\n",
    ")\n",
    "\n",
    "CAZ = (\n",
    "    {\"lon\": 10.868776048246, \"lat\": 48.3329961062607},\n",
    "    {\"lon\": 10.8707511122279, \"lat\": 48.3869470549635},\n",
    "    {\"lon\": 10.924748760677, \"lat\": 48.3860560744848},\n",
    "    {\"lon\": 10.9227167726086, \"lat\": 48.3321068025163},\n",
    "    {\"lon\": 10.868776048246, \"lat\": 48.3329961062607}\n",
    ")\n",
    "\n",
    "starttime = \"1018-08-28T10:00:00.001Z\"\n",
    "endtime = \"2018-12-31T00:00:00.001Z\"\n",
    "\n",
    "mapwidth = \"950px\"\n",
    "mapheight = \"1400px\""
   ]
  },
  {
   "cell_type": "markdown",
   "metadata": {},
   "source": [
    "# logging"
   ]
  },
  {
   "cell_type": "code",
   "execution_count": 3,
   "metadata": {},
   "outputs": [],
   "source": [
    "log = logging.getLogger(__name__)\n",
    "log.setLevel(logging.DEBUG)\n",
    "formatter = logging.Formatter(\"%(asctime)s - %(levelname)s(%(name)s): %(message)s\")\n",
    "\n",
    "fh = logging.FileHandler('./log')\n",
    "fh.setLevel(logging.DEBUG)\n",
    "fh.setFormatter(formatter)\n",
    "log.addHandler(fh)\n",
    "\n",
    "sh = logging.StreamHandler(sys.stderr)\n",
    "sh.setLevel(logging.ERROR)\n",
    "sh.setFormatter(formatter)\n",
    "log.addHandler(sh)"
   ]
  },
  {
   "cell_type": "markdown",
   "metadata": {},
   "source": [
    "# get request"
   ]
  },
  {
   "cell_type": "code",
   "execution_count": 4,
   "metadata": {},
   "outputs": [],
   "source": [
    "def GETRequest(url, qdata=None):\n",
    "        \"\"\"TODO: add docstring\"\"\"\n",
    "        \n",
    "        if qdata == None:\n",
    "            qdata = \"\"\n",
    "        else:\n",
    "            qdata = \"?\" + qdata\n",
    "        \n",
    "        p = requests.get(url + qdata)\n",
    "        body = b\"\";\n",
    "        for chunk in p.iter_content(chunk_size=128):\n",
    "            body += chunk\n",
    "        body = body.decode(\"utf8\")\n",
    "        body = body.replace(\"\\n\", \" \").replace(\"\\r\", \"\")\n",
    "        if (p.status_code  == 200):\n",
    "            log.debug(\"entities retrieved: \" + url + qdata)\n",
    "            return body\n",
    "        else:\n",
    "            log.error(\"cannot get entities: \" + url + qdata + \\\n",
    "                      \" - exit code: \" + str(p.status_code) + \" - body: \" + body)\n",
    "            raise TypeError(\"invalid request\")"
   ]
  },
  {
   "cell_type": "markdown",
   "metadata": {},
   "source": [
    "# make querry"
   ]
  },
  {
   "cell_type": "code",
   "execution_count": 5,
   "metadata": {},
   "outputs": [],
   "source": [
    "polygonstring = \"\"\n",
    "for elem in querypolygon:\n",
    "    polygonstring += str(elem[\"lon\"]) + \" \" + str(elem[\"lat\"]) + \",\"\n",
    "\n",
    "qdata = (\n",
    "    \"$expand=Locations\" +\n",
    "    \"&$filter=\" +\n",
    "    \n",
    "    \"st_within(Locations/location, geography'POLYGON ((\" +\n",
    "    polygonstring[:-1] +\n",
    "    \"))')\" +\n",
    "    \n",
    "    \" and \" +\n",
    "    \"HistoricalLocations/time ge \" + starttime +\n",
    "    \" and \" +\n",
    "    \"HistoricalLocations/time le \" + endtime\n",
    ")"
   ]
  },
  {
   "cell_type": "markdown",
   "metadata": {},
   "source": [
    "# get entities"
   ]
  },
  {
   "cell_type": "code",
   "execution_count": 6,
   "metadata": {},
   "outputs": [],
   "source": [
    "def GetEntities(st_url, where, qdata=None):\n",
    "    entities = list()\n",
    "\n",
    "    retval = json.loads(GETRequest(st_url + where, qdata))\n",
    "    entities.extend(retval[\"value\"])\n",
    "\n",
    "    allkeys = [*retval]\n",
    "    while \"@iot.nextLink\" in allkeys:\n",
    "        nexturl = retval[\"@iot.nextLink\"]\n",
    "        retval = json.loads(GETRequest(nexturl))\n",
    "        entities.extend(retval[\"value\"])\n",
    "        allkeys = [*retval]\n",
    "        \n",
    "    return entities"
   ]
  },
  {
   "cell_type": "markdown",
   "metadata": {},
   "source": [
    "# create map"
   ]
  },
  {
   "cell_type": "code",
   "execution_count": 7,
   "metadata": {},
   "outputs": [],
   "source": [
    "m = leaflet.Map(\n",
    "    basemap = leaflet.basemaps.Esri.WorldStreetMap,\n",
    "    center = (48.354912, 10.902233),\n",
    "    zoom = 14,\n",
    "    close_popup_on_click = False,\n",
    "    layout=widgets.Layout(width=mapwidth, height=mapheight)\n",
    ")\n",
    "\n",
    "# station markers\n",
    "entities = GetEntities(st_url, where, qdata)\n",
    "for elem in entities:\n",
    "    coords = elem[\"Locations\"][0][\"location\"][\"coordinates\"]\n",
    "    coords.reverse()\n",
    "    \n",
    "    name = elem[\"name\"]\n",
    "    description = elem[\"description\"]\n",
    "    iotid = elem[\"@iot.id\"]\n",
    "    try:\n",
    "        properties = json.dumps(elem[\"properties\"])\n",
    "    except KeyError:\n",
    "        properties = \"None\"\n",
    "    message = widgets.HTML();\n",
    "    message.value = (\n",
    "        \"@iot.id: \" + iotid +  \"<br>\" +\n",
    "        \"name: \" + name +  \"<br>\" +\n",
    "        \"description: \" + description +  \"<br>\" +\n",
    "        \"coordinates: \" + str(coords) + \"<br>\" +\n",
    "        \"properties: \" + properties\n",
    "    )\n",
    "    \n",
    "    marker = leaflet.Marker(location = coords, draggable = False)\n",
    "    marker.popup = message\n",
    "    \n",
    "    m.add_layer(marker)\n",
    "    \n",
    "# CAZ polygon\n",
    "polygon = leaflet.Polygon(\n",
    "    locations = [[elem[\"lat\"], elem[\"lon\"]] for elem in CAZ],\n",
    "    color = \"green\",\n",
    "    fill_color = \"green\"\n",
    ")\n",
    "m.add_layer(polygon);\n",
    "\n",
    "message = widgets.HTML()\n",
    "message.value = \"CAZ\"\n",
    "popup = leaflet.Popup(\n",
    "    location = (CAZ[2][\"lat\"], CAZ[2][\"lon\"]),\n",
    "    child = message,\n",
    "    close_button = False,\n",
    "    auto_close = False,\n",
    "    close_on_escape_key = False\n",
    ")\n",
    "m.add_layer(popup)"
   ]
  },
  {
   "cell_type": "markdown",
   "metadata": {},
   "source": [
    "# save map"
   ]
  },
  {
   "cell_type": "code",
   "execution_count": 8,
   "metadata": {},
   "outputs": [],
   "source": [
    "from ipywidgets.embed import embed_minimal_html\n",
    "embed_minimal_html('map.html', views=[m], title=\"MapDemo\")"
   ]
  },
  {
   "cell_type": "code",
   "execution_count": 9,
   "metadata": {},
   "outputs": [
    {
     "data": {
      "application/vnd.jupyter.widget-view+json": {
       "model_id": "8ae6e1fcd0e04088a0e03b60bb5ddbeb",
       "version_major": 2,
       "version_minor": 0
      },
      "text/plain": [
       "Map(basemap={'url': 'http://server.arcgisonline.com/ArcGIS/rest/services/World_Street_Map/MapServer/tile/{z}/{…"
      ]
     },
     "metadata": {},
     "output_type": "display_data"
    }
   ],
   "source": [
    "m"
   ]
  },
  {
   "cell_type": "code",
   "execution_count": null,
   "metadata": {},
   "outputs": [],
   "source": []
  }
 ],
 "metadata": {
  "kernelspec": {
   "display_name": "Python 3",
   "language": "python",
   "name": "python3"
  },
  "language_info": {
   "codemirror_mode": {
    "name": "ipython",
    "version": 3
   },
   "file_extension": ".py",
   "mimetype": "text/x-python",
   "name": "python",
   "nbconvert_exporter": "python",
   "pygments_lexer": "ipython3",
   "version": "3.6.6"
  }
 },
 "nbformat": 4,
 "nbformat_minor": 2
}
