{
 "cells": [
  {
   "cell_type": "markdown",
   "metadata": {},
   "source": [
    "# imports"
   ]
  },
  {
   "cell_type": "code",
   "execution_count": null,
   "metadata": {},
   "outputs": [],
   "source": [
    "import os\n",
    "import json\n",
    "import dateutil\n",
    "import datetime\n",
    "import csv\n",
    "import numpy as np\n",
    "import SensorThings as st"
   ]
  },
  {
   "cell_type": "markdown",
   "metadata": {},
   "source": [
    "# settings"
   ]
  },
  {
   "cell_type": "code",
   "execution_count": null,
   "metadata": {},
   "outputs": [],
   "source": [
    "reloaddata = True\n",
    "\n",
    "datastream_id = \"testdatastream:PM10\"\n",
    "starttime = \"2018-11-15T00:00:00.000Z\"\n",
    "endtime = \"2018-11-16T23:59:59.999Z\"\n",
    "\n",
    "st_url = \"http://smartaqnet.teco.edu:8080/FROST-Server\""
   ]
  },
  {
   "cell_type": "markdown",
   "metadata": {},
   "source": [
    "# get and save data"
   ]
  },
  {
   "cell_type": "code",
   "execution_count": null,
   "metadata": {},
   "outputs": [],
   "source": [
    "where = \"/v1.0/Datastreams('\" + datastream_id + \"')/Observations\"\n",
    "\n",
    "qdata = [\n",
    "    \"$expand=\" +\n",
    "        \"Datastream($select=id),\" + \n",
    "        \"FeatureOfInterest($select=id,feature)\",\n",
    "    \n",
    "    \"$filter=\" +\n",
    "        \"phenomenonTime ge \" + starttime + \" and \"\n",
    "        \"phenomenonTime le \" + endtime,\n",
    "    \n",
    "    \"$select=id,result,phenomenonTime\"\n",
    "]\n",
    "\n",
    "filename = \"entities.json\"\n",
    "\n",
    "if (not os.path.isfile(filename)) or reloaddata:\n",
    "    entities = st.GetEntities(st_url, where, qdata)\n",
    "    with open(filename, 'w') as outfile:\n",
    "        json.dump(entities, outfile)\n",
    "else:\n",
    "    with open(filename, 'r') as infile:\n",
    "        entities = json.load(infile)\n",
    "        \n",
    "data = [\n",
    "    [\n",
    "        dateutil.parser.parse(elem['phenomenonTime']).timestamp(),\n",
    "        elem['phenomenonTime'],\n",
    "        elem[\"@iot.id\"],\n",
    "        elem[\"FeatureOfInterest\"]['@iot.id']\n",
    "    ]\n",
    "    for elem in entities\n",
    "]\n",
    "\n",
    "data.sort(key=lambda x: x[0])\n",
    "data_cols = list(zip(*data))"
   ]
  },
  {
   "cell_type": "markdown",
   "metadata": {},
   "source": [
    "# load positions"
   ]
  },
  {
   "cell_type": "code",
   "execution_count": null,
   "metadata": {},
   "outputs": [],
   "source": [
    "with open(\"position.csv\", \"r\") as file:\n",
    "    reader = csv.reader(file, delimiter=\";\")\n",
    "    position_header = next(reader, None)\n",
    "    \n",
    "    # -----------------------------------------\n",
    "    # TODO: modify your GPS data reader here!!!\n",
    "    # -----------------------------------------\n",
    "    position = [\n",
    "        [\n",
    "            dateutil.parser.parse(elem[12]).timestamp(),\n",
    "            elem[12],\n",
    "            # longitude\n",
    "            float(elem[9]),\n",
    "            # latitude\n",
    "            float(elem[10]),\n",
    "            # elevation\n",
    "            float(elem[11])\n",
    "        ]\n",
    "        for elem in reader\n",
    "    ]\n",
    "\n",
    "position.sort(key=lambda x: x[0])\n",
    "position_cols = list(zip(*position))"
   ]
  },
  {
   "cell_type": "markdown",
   "metadata": {},
   "source": [
    "# match positions"
   ]
  },
  {
   "cell_type": "code",
   "execution_count": null,
   "metadata": {},
   "outputs": [],
   "source": [
    "times = np.array(position_cols[0])\n",
    "badpoints = 0\n",
    "\n",
    "for elem in data:\n",
    "    time = elem[0]\n",
    "    obs_iotid = elem[2]\n",
    "    foi_iotid = elem[3]\n",
    "    \n",
    "    temp = np.abs(times - time)\n",
    "    minimum = np.min(temp)\n",
    "    index = np.argmin(temp)\n",
    "    \n",
    "    # maximum time difference: 10 seconds\n",
    "    if minimum > 10.0:\n",
    "        badpoints += 1\n",
    "        continue\n",
    "    \n",
    "    st.UpdateFoICoordinates(st_url + \"/v1.0/FeaturesOfInterest('\" + foi_iotid + \"')\", position[index][2:])"
   ]
  },
  {
   "cell_type": "code",
   "execution_count": null,
   "metadata": {},
   "outputs": [],
   "source": [
    "badpoints"
   ]
  },
  {
   "cell_type": "code",
   "execution_count": null,
   "metadata": {},
   "outputs": [],
   "source": []
  }
 ],
 "metadata": {
  "kernelspec": {
   "display_name": "Python 3",
   "language": "python",
   "name": "python3"
  },
  "language_info": {
   "codemirror_mode": {
    "name": "ipython",
    "version": 3
   },
   "file_extension": ".py",
   "mimetype": "text/x-python",
   "name": "python",
   "nbconvert_exporter": "python",
   "pygments_lexer": "ipython3",
   "version": "3.6.6"
  }
 },
 "nbformat": 4,
 "nbformat_minor": 2
}
